{
 "cells": [
  {
   "cell_type": "code",
   "execution_count": 39,
   "metadata": {},
   "outputs": [],
   "source": [
    "import CipherAnalyzer\n",
    "CipherAnalyzer.init()"
   ]
  },
  {
   "cell_type": "code",
   "execution_count": 48,
   "metadata": {},
   "outputs": [
    {
     "name": "stdout",
     "output_type": "stream",
     "text": [
      " * Serving Flask app '__main__'\n",
      " * Debug mode: off\n"
     ]
    },
    {
     "name": "stderr",
     "output_type": "stream",
     "text": [
      "WARNING: This is a development server. Do not use it in a production deployment. Use a production WSGI server instead.\n",
      " * Running on http://127.0.0.1:5000\n",
      "Press CTRL+C to quit\n",
      "127.0.0.1 - - [02/Jan/2024 16:14:36] \"GET / HTTP/1.1\" 200 -\n",
      "127.0.0.1 - - [02/Jan/2024 16:14:36] \"GET /static/style.css HTTP/1.1\" 304 -\n",
      "127.0.0.1 - - [02/Jan/2024 16:14:36] \"GET /static/Puppertino-master/dist/css/newfull.css HTTP/1.1\" 304 -\n",
      "127.0.0.1 - - [02/Jan/2024 16:14:36] \"GET /static/assets/grad.png HTTP/1.1\" 304 -\n",
      "127.0.0.1 - - [02/Jan/2024 16:14:36] \"GET /static/assets/copy.png HTTP/1.1\" 304 -\n",
      "127.0.0.1 - - [02/Jan/2024 16:14:36] \"GET /static/Puppertino-master/dist/css/layout.css HTTP/1.1\" 304 -\n",
      "127.0.0.1 - - [02/Jan/2024 16:14:36] \"GET /static/Puppertino-master/dist/css/actions.css HTTP/1.1\" 304 -\n",
      "127.0.0.1 - - [02/Jan/2024 16:14:36] \"GET /static/Puppertino-master/dist/css/buttons.css HTTP/1.1\" 304 -\n",
      "127.0.0.1 - - [02/Jan/2024 16:14:36] \"GET /static/Puppertino-master/dist/css/cards.css HTTP/1.1\" 304 -\n",
      "127.0.0.1 - - [02/Jan/2024 16:14:36] \"GET /static/Puppertino-master/dist/css/color_palette.css HTTP/1.1\" 304 -\n",
      "127.0.0.1 - - [02/Jan/2024 16:14:36] \"GET /static/Puppertino-master/dist/css/forms.css HTTP/1.1\" 304 -\n",
      "127.0.0.1 - - [02/Jan/2024 16:14:36] \"GET /static/Puppertino-master/dist/css/modals.css HTTP/1.1\" 304 -\n",
      "127.0.0.1 - - [02/Jan/2024 16:14:36] \"GET /static/Puppertino-master/dist/css/segmented-controls.css HTTP/1.1\" 304 -\n",
      "127.0.0.1 - - [02/Jan/2024 16:14:36] \"GET /static/Puppertino-master/dist/css/shadows.css HTTP/1.1\" 304 -\n",
      "127.0.0.1 - - [02/Jan/2024 16:14:36] \"GET /static/Puppertino-master/dist/css/tabs.css HTTP/1.1\" 304 -\n",
      "127.0.0.1 - - [02/Jan/2024 16:14:36] \"GET /static/Puppertino-master/dist/css/dark_mode.css HTTP/1.1\" 304 -\n",
      "127.0.0.1 - - [02/Jan/2024 16:14:36] \"GET /static/dynamics.js HTTP/1.1\" 200 -\n",
      "127.0.0.1 - - [02/Jan/2024 16:14:37] \"GET /static/roboto.ttf HTTP/1.1\" 304 -\n",
      "127.0.0.1 - - [02/Jan/2024 16:14:42] \"POST /config HTTP/1.1\" 200 -\n",
      "127.0.0.1 - - [02/Jan/2024 16:14:42] \"GET /analyzer HTTP/1.1\" 200 -\n",
      "127.0.0.1 - - [02/Jan/2024 16:14:47] \"POST /config HTTP/1.1\" 200 -\n",
      "127.0.0.1 - - [02/Jan/2024 16:14:49] \"GET /analyzer HTTP/1.1\" 200 -\n",
      "127.0.0.1 - - [02/Jan/2024 16:14:56] \"GET / HTTP/1.1\" 200 -\n",
      "127.0.0.1 - - [02/Jan/2024 16:14:56] \"GET /static/style.css HTTP/1.1\" 200 -\n",
      "127.0.0.1 - - [02/Jan/2024 16:14:56] \"GET /static/Puppertino-master/dist/css/newfull.css HTTP/1.1\" 200 -\n",
      "127.0.0.1 - - [02/Jan/2024 16:14:56] \"GET /static/assets/grad.png HTTP/1.1\" 200 -\n",
      "127.0.0.1 - - [02/Jan/2024 16:14:57] \"GET /static/assets/copy.png HTTP/1.1\" 200 -\n",
      "127.0.0.1 - - [02/Jan/2024 16:14:57] \"GET /static/Puppertino-master/dist/css/layout.css HTTP/1.1\" 200 -\n",
      "127.0.0.1 - - [02/Jan/2024 16:14:57] \"GET /static/Puppertino-master/dist/css/actions.css HTTP/1.1\" 200 -\n",
      "127.0.0.1 - - [02/Jan/2024 16:14:57] \"GET /static/Puppertino-master/dist/css/buttons.css HTTP/1.1\" 200 -\n",
      "127.0.0.1 - - [02/Jan/2024 16:14:57] \"GET /static/Puppertino-master/dist/css/cards.css HTTP/1.1\" 200 -\n",
      "127.0.0.1 - - [02/Jan/2024 16:14:57] \"GET /static/Puppertino-master/dist/css/forms.css HTTP/1.1\" 200 -\n",
      "127.0.0.1 - - [02/Jan/2024 16:14:57] \"GET /static/Puppertino-master/dist/css/color_palette.css HTTP/1.1\" 200 -\n",
      "127.0.0.1 - - [02/Jan/2024 16:14:57] \"GET /static/Puppertino-master/dist/css/modals.css HTTP/1.1\" 200 -\n",
      "127.0.0.1 - - [02/Jan/2024 16:14:57] \"GET /static/Puppertino-master/dist/css/segmented-controls.css HTTP/1.1\" 200 -\n",
      "127.0.0.1 - - [02/Jan/2024 16:14:57] \"GET /static/Puppertino-master/dist/css/shadows.css HTTP/1.1\" 200 -\n",
      "127.0.0.1 - - [02/Jan/2024 16:14:57] \"GET /static/Puppertino-master/dist/css/tabs.css HTTP/1.1\" 200 -\n",
      "127.0.0.1 - - [02/Jan/2024 16:14:58] \"GET /static/dynamics.js HTTP/1.1\" 200 -\n",
      "127.0.0.1 - - [02/Jan/2024 16:14:58] \"GET /static/Puppertino-master/dist/css/dark_mode.css HTTP/1.1\" 200 -\n",
      "127.0.0.1 - - [02/Jan/2024 16:14:58] \"GET /static/roboto.ttf HTTP/1.1\" 200 -\n",
      "127.0.0.1 - - [02/Jan/2024 16:15:02] \"POST /config HTTP/1.1\" 200 -\n",
      "127.0.0.1 - - [02/Jan/2024 16:15:04] \"GET /analyzer HTTP/1.1\" 200 -\n",
      "127.0.0.1 - - [02/Jan/2024 16:15:07] \"POST /config HTTP/1.1\" 200 -\n",
      "127.0.0.1 - - [02/Jan/2024 16:15:08] \"GET /analyzer HTTP/1.1\" 200 -\n",
      "127.0.0.1 - - [02/Jan/2024 16:15:20] \"POST /config HTTP/1.1\" 200 -\n",
      "127.0.0.1 - - [02/Jan/2024 16:15:20] \"GET /analyzer HTTP/1.1\" 200 -\n",
      "127.0.0.1 - - [02/Jan/2024 16:15:22] \"POST /config HTTP/1.1\" 200 -\n",
      "127.0.0.1 - - [02/Jan/2024 16:15:22] \"GET /analyzer HTTP/1.1\" 200 -\n",
      "127.0.0.1 - - [02/Jan/2024 16:15:27] \"POST /config HTTP/1.1\" 200 -\n",
      "127.0.0.1 - - [02/Jan/2024 16:15:27] \"GET /analyzer HTTP/1.1\" 200 -\n"
     ]
    }
   ],
   "source": [
    "from flask import url_for, render_template, Flask, request, jsonify\n",
    "from flask_cors import CORS\n",
    "\n",
    "app = Flask(__name__)\n",
    "CORS(app)\n",
    "\n",
    "password = \"\"\n",
    "\n",
    "@app.route('/')\n",
    "def index():\n",
    "    return render_template('main.html')\n",
    "\n",
    "@app.route('/config', methods= [\"POST\"])\n",
    "def config():\n",
    "    global password\n",
    "    if(request.method == \"POST\"):\n",
    "        data = request.get_json()\n",
    "        password = data['password']\n",
    "        \n",
    "    return ({\"message\": \"success\"})\n",
    "\n",
    "\n",
    "@app.route(\"/analyzer\", methods= [\"GET\"])\n",
    "def analyze():\n",
    "    global password\n",
    "    strength = CipherAnalyzer.analyze(password)\n",
    "    return jsonify({\"strength\": strength})\n",
    "\n",
    "\n",
    "if __name__ == '__main__':\n",
    "    app.run(debug=False)\n"
   ]
  }
 ],
 "metadata": {
  "kernelspec": {
   "display_name": "Python 3",
   "language": "python",
   "name": "python3"
  },
  "language_info": {
   "codemirror_mode": {
    "name": "ipython",
    "version": 3
   },
   "file_extension": ".py",
   "mimetype": "text/x-python",
   "name": "python",
   "nbconvert_exporter": "python",
   "pygments_lexer": "ipython3",
   "version": "3.11.0"
  },
  "orig_nbformat": 4
 },
 "nbformat": 4,
 "nbformat_minor": 2
}
